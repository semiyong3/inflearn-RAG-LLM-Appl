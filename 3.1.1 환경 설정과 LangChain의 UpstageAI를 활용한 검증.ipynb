{
 "cells": [
  {
   "cell_type": "markdown",
   "metadata": {},
   "source": [
    "# 1. 패키지 설치"
   ]
  },
  {
   "cell_type": "code",
   "execution_count": 1,
   "metadata": {},
   "outputs": [
    {
     "name": "stdout",
     "output_type": "stream",
     "text": [
      "Note: you may need to restart the kernel to use updated packages.\n"
     ]
    }
   ],
   "source": [
    "%pip install -q python-dotenv langchain-upstage"
   ]
  },
  {
   "cell_type": "markdown",
   "metadata": {},
   "source": [
    "# 2. 환경변수 불러오기\n",
    "\n",
    "- `.env` 파일에 `OPENAI_API_KEY` 등록"
   ]
  },
  {
   "cell_type": "code",
   "execution_count": 1,
   "metadata": {},
   "outputs": [
    {
     "data": {
      "text/plain": [
       "True"
      ]
     },
     "execution_count": 1,
     "metadata": {},
     "output_type": "execute_result"
    }
   ],
   "source": [
    "from dotenv import load_dotenv\n",
    "\n",
    "load_dotenv()"
   ]
  },
  {
   "cell_type": "markdown",
   "metadata": {},
   "source": [
    "# 3. LLM 답변 생성\n",
    "\n",
    "- OpenAI 대시보드에서 발급받은 API Key를 `OPENAI_API_KEY`라고 저장하면 별도의 설정 없이 `ChatOpenAI`를 사용할 수 있음"
   ]
  },
  {
   "cell_type": "code",
   "execution_count": 2,
   "metadata": {},
   "outputs": [],
   "source": [
    "import os\n",
    "from langchain_upstage import ChatUpstage\n",
    "\n",
    "llm = ChatUpstage()"
   ]
  },
  {
   "cell_type": "code",
   "execution_count": 3,
   "metadata": {},
   "outputs": [
    {
     "data": {
      "text/plain": [
       "AIMessage(content='인프런은 다양한 분야의 온라인 강의 플랫폼을 제공합니다. 인프런에서는 다음과 같은 카테고리에서 다양한 강의를 찾을 수 있습니다:\\n\\n1. 프로그래밍: 웹 개발, 데이터 과학, 모바일 개발, 게임 개발, 알고리즘 등 다양한 프로그래밍 언어와 기술에 대한 강의가 있습니다.\\n2. 비즈니스: 마케팅, 경영, 리더십, 재무, 회계 등 비즈니스 관련 주제에 대한 강의가 있습니다.\\n3. 디자인: 그래픽 디자인, 웹 디자인, UI/UX 디자인, 로고 디자인 등 다양한 디자인 분야에 대한 강의가 있습니다.\\n4. 데이터 과학: Python을 통한 데이터 분석, 머신러닝, 딥러닝, 데이터 시각화 등 데이터 과학 관련 강의가 있습니다.\\n5. 클라우드: AWS, Google Cloud, Azure 등 클라우드 플랫폼에 대한 강의가 있습니다.\\n6. 네트워킹: 네트워크 기초, 보안, 서버 관리 등 네트워킹 분야에 대한 강의가 있습니다.\\n7. 기타: 영어, 외국어, 디자인 툴, 사무 자동화 등 다양한 주제에 대한 강의가 있습니다.\\n\\n이는 일부 예시이며, 인프런에서는 수백 개의 강의가 제공되고 있습니다. 관심 있는 분야를 찾아보시고, 자세한 내용은 인프런 웹사이트에서 확인해보시기 바랍니다.', additional_kwargs={'refusal': None}, response_metadata={'token_usage': {'completion_tokens': 259, 'prompt_tokens': 18, 'total_tokens': 277, 'completion_tokens_details': None, 'prompt_tokens_details': None}, 'model_name': 'solar-mini-250123', 'system_fingerprint': None, 'finish_reason': 'stop', 'logprobs': None}, id='run-6a1746d4-3a28-464a-9e73-2a9360af7344-0', usage_metadata={'input_tokens': 18, 'output_tokens': 259, 'total_tokens': 277, 'input_token_details': {}, 'output_token_details': {}})"
      ]
     },
     "execution_count": 3,
     "metadata": {},
     "output_type": "execute_result"
    }
   ],
   "source": [
    "ai_message = llm.invoke(\"인프런에 어떤 강의가 있나요?\")\n",
    "ai_message"
   ]
  },
  {
   "cell_type": "code",
   "execution_count": 4,
   "metadata": {},
   "outputs": [
    {
     "data": {
      "text/plain": [
       "'인프런은 다양한 분야의 온라인 강의 플랫폼을 제공합니다. 인프런에서는 다음과 같은 카테고리에서 다양한 강의를 찾을 수 있습니다:\\n\\n1. 프로그래밍: 웹 개발, 데이터 과학, 모바일 개발, 게임 개발, 알고리즘 등 다양한 프로그래밍 언어와 기술에 대한 강의가 있습니다.\\n2. 비즈니스: 마케팅, 경영, 리더십, 재무, 회계 등 비즈니스 관련 주제에 대한 강의가 있습니다.\\n3. 디자인: 그래픽 디자인, 웹 디자인, UI/UX 디자인, 로고 디자인 등 다양한 디자인 분야에 대한 강의가 있습니다.\\n4. 데이터 과학: Python을 통한 데이터 분석, 머신러닝, 딥러닝, 데이터 시각화 등 데이터 과학 관련 강의가 있습니다.\\n5. 클라우드: AWS, Google Cloud, Azure 등 클라우드 플랫폼에 대한 강의가 있습니다.\\n6. 네트워킹: 네트워크 기초, 보안, 서버 관리 등 네트워킹 분야에 대한 강의가 있습니다.\\n7. 기타: 영어, 외국어, 디자인 툴, 사무 자동화 등 다양한 주제에 대한 강의가 있습니다.\\n\\n이는 일부 예시이며, 인프런에서는 수백 개의 강의가 제공되고 있습니다. 관심 있는 분야를 찾아보시고, 자세한 내용은 인프런 웹사이트에서 확인해보시기 바랍니다.'"
      ]
     },
     "execution_count": 4,
     "metadata": {},
     "output_type": "execute_result"
    }
   ],
   "source": [
    "ai_message.content"
   ]
  },
  {
   "cell_type": "code",
   "execution_count": null,
   "metadata": {},
   "outputs": [],
   "source": []
  }
 ],
 "metadata": {
  "kernelspec": {
   "display_name": "inflearn-llm-application",
   "language": "python",
   "name": "python3"
  },
  "language_info": {
   "codemirror_mode": {
    "name": "ipython",
    "version": 3
   },
   "file_extension": ".py",
   "mimetype": "text/x-python",
   "name": "python",
   "nbconvert_exporter": "python",
   "pygments_lexer": "ipython3",
   "version": "3.11.4"
  }
 },
 "nbformat": 4,
 "nbformat_minor": 2
}
